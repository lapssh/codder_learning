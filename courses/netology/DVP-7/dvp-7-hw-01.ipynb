{
 "cells": [
  {
   "cell_type": "markdown",
   "metadata": {},
   "source": [
    "### Домашняя работа №1 по курсу Feature Engineering\n"
   ]
  },
  {
   "cell_type": "code",
   "execution_count": 95,
   "metadata": {},
   "outputs": [],
   "source": [
    "import numpy as np\n",
    "import pandas as pd\n",
    "import random\n",
    "\n",
    "from sklearn.linear_model import LinearRegression"
   ]
  },
  {
   "cell_type": "markdown",
   "metadata": {},
   "source": [
    "#### Генерируем задачу.\n",
    "Мы получили данные новых процессоров фирмы Outtel (c).\n",
    "Известны колличество ядер в каждой модели, колличество операций ввода\\вывода для каждого ядра и частота процессора. Спасибо тестировщикам! Их работа и уныла и важна! \n",
    "Необходимо построить модель линейной регрессии. "
   ]
  },
  {
   "cell_type": "code",
   "execution_count": 96,
   "metadata": {},
   "outputs": [],
   "source": [
    "n_samples = 555 # Число моделей процессоров в датасете"
   ]
  },
  {
   "cell_type": "code",
   "execution_count": 97,
   "metadata": {},
   "outputs": [],
   "source": [
    "def get_model_name(temp):\n",
    "    \"\"\" Функия назначения нового имени новой модели \"\"\"\n",
    "    vowel = 'eyuioa'\n",
    "    consonant = 'qwwrtpsdfghjklzxcvbnm'\n",
    "    model_name = 'Outtel-'\n",
    "    for i in range (3):\n",
    "        model_name  += random.choice(consonant)\n",
    "        model_name  += random.choice(vowel)\n",
    "    return model_name"
   ]
  },
  {
   "cell_type": "markdown",
   "metadata": {},
   "source": [
    "Сгенерируем новый тестовый Датасет с операциями ввода\\вывода для каждого ядра, частотой процессора и стоимостью, которая будет высчитываться по формуле COST = (сумма операций ввода\\вывода всех ядер) / колличество ядер * частота процессора"
   ]
  },
  {
   "cell_type": "code",
   "execution_count": 90,
   "metadata": {},
   "outputs": [
    {
     "data": {
      "text/html": [
       "<div>\n",
       "<style scoped>\n",
       "    .dataframe tbody tr th:only-of-type {\n",
       "        vertical-align: middle;\n",
       "    }\n",
       "\n",
       "    .dataframe tbody tr th {\n",
       "        vertical-align: top;\n",
       "    }\n",
       "\n",
       "    .dataframe thead th {\n",
       "        text-align: right;\n",
       "    }\n",
       "</style>\n",
       "<table border=\"1\" class=\"dataframe\">\n",
       "  <thead>\n",
       "    <tr style=\"text-align: right;\">\n",
       "      <th></th>\n",
       "      <th>model_name</th>\n",
       "      <th>core1</th>\n",
       "      <th>core2</th>\n",
       "      <th>core3</th>\n",
       "      <th>core4</th>\n",
       "      <th>core5</th>\n",
       "      <th>core6</th>\n",
       "      <th>frequency</th>\n",
       "      <th>price</th>\n",
       "    </tr>\n",
       "  </thead>\n",
       "  <tbody>\n",
       "    <tr>\n",
       "      <td>0</td>\n",
       "      <td>Outtel-faxeze</td>\n",
       "      <td>923</td>\n",
       "      <td>472</td>\n",
       "      <td>814</td>\n",
       "      <td>803</td>\n",
       "      <td>972</td>\n",
       "      <td>598</td>\n",
       "      <td>2888</td>\n",
       "      <td>2205469.0</td>\n",
       "    </tr>\n",
       "    <tr>\n",
       "      <td>1</td>\n",
       "      <td>Outtel-lozere</td>\n",
       "      <td>998</td>\n",
       "      <td>831</td>\n",
       "      <td>818</td>\n",
       "      <td>649</td>\n",
       "      <td>682</td>\n",
       "      <td>479</td>\n",
       "      <td>3314</td>\n",
       "      <td>2461750.0</td>\n",
       "    </tr>\n",
       "    <tr>\n",
       "      <td>2</td>\n",
       "      <td>Outtel-wesela</td>\n",
       "      <td>495</td>\n",
       "      <td>768</td>\n",
       "      <td>680</td>\n",
       "      <td>624</td>\n",
       "      <td>540</td>\n",
       "      <td>630</td>\n",
       "      <td>3029</td>\n",
       "      <td>1886562.0</td>\n",
       "    </tr>\n",
       "    <tr>\n",
       "      <td>3</td>\n",
       "      <td>Outtel-buxoki</td>\n",
       "      <td>489</td>\n",
       "      <td>998</td>\n",
       "      <td>991</td>\n",
       "      <td>445</td>\n",
       "      <td>927</td>\n",
       "      <td>890</td>\n",
       "      <td>3247</td>\n",
       "      <td>2565130.0</td>\n",
       "    </tr>\n",
       "    <tr>\n",
       "      <td>4</td>\n",
       "      <td>Outtel-bytahe</td>\n",
       "      <td>691</td>\n",
       "      <td>876</td>\n",
       "      <td>934</td>\n",
       "      <td>529</td>\n",
       "      <td>951</td>\n",
       "      <td>596</td>\n",
       "      <td>4279</td>\n",
       "      <td>3264164.0</td>\n",
       "    </tr>\n",
       "  </tbody>\n",
       "</table>\n",
       "</div>"
      ],
      "text/plain": [
       "      model_name  core1  core2  core3  core4  core5  core6  frequency  \\\n",
       "0  Outtel-faxeze    923    472    814    803    972    598       2888   \n",
       "1  Outtel-lozere    998    831    818    649    682    479       3314   \n",
       "2  Outtel-wesela    495    768    680    624    540    630       3029   \n",
       "3  Outtel-buxoki    489    998    991    445    927    890       3247   \n",
       "4  Outtel-bytahe    691    876    934    529    951    596       4279   \n",
       "\n",
       "       price  \n",
       "0  2205469.0  \n",
       "1  2461750.0  \n",
       "2  1886562.0  \n",
       "3  2565130.0  \n",
       "4  3264164.0  "
      ]
     },
     "execution_count": 90,
     "metadata": {},
     "output_type": "execute_result"
    }
   ],
   "source": [
    "core1 = np.random.choice(570, n_samples) + 430\n",
    "core2 = np.random.choice(570, n_samples) + 430\n",
    "core3 = np.random.choice(570, n_samples) + 430\n",
    "core4 = np.random.choice(570, n_samples) + 430\n",
    "core5 = np.random.choice(570, n_samples) + 430\n",
    "core6 = np.random.choice(570, n_samples) + 430\n",
    "frequency = np.random.choice(3000, n_samples) + 1500\n",
    "price = np.around((core1+core2+core3+core4+core5+core6)/6 * frequency)\n",
    "data = pd.DataFrame({'model_name': 'temp', 'core1': core1, 'core2': core2, 'core3': core3, 'core4': core4, 'core5': core5,\n",
    "                     'core6': core6, 'frequency': frequency, 'price': price})\n",
    "data['model_name']  = data['model_name'].apply(get_model_name)\n",
    "data.head()"
   ]
  },
  {
   "cell_type": "markdown",
   "metadata": {},
   "source": [
    "Попробуем высчитать линейную регресию в лоб."
   ]
  },
  {
   "cell_type": "code",
   "execution_count": 91,
   "metadata": {},
   "outputs": [
    {
     "name": "stdout",
     "output_type": "stream",
     "text": [
      "Weights: [607.41853767 379.70680885 714.04020933 334.48710262 878.86451168\n",
      " 594.72183185]\n",
      "Bias: -384930.3165354626\n",
      "Error: 547333.9708903851\n"
     ]
    }
   ],
   "source": [
    "from sklearn.metrics import mean_absolute_error\n",
    "\n",
    "X = data[[ 'core1', 'core2', 'core3', 'core4', 'core5', 'core6']]\n",
    "y = data['price']\n",
    "reg = LinearRegression().fit(X, y)\n",
    "print('Weights: {}'.format(reg.coef_))\n",
    "print('Bias: {}'.format(reg.intercept_))\n",
    "\n",
    "pred_values = reg.predict(data[['core1', 'core2', 'core3', 'core4', 'core5', 'core6']])\n",
    "print('Error: {}'.format(mean_absolute_error(pred_values, y)))"
   ]
  },
  {
   "cell_type": "markdown",
   "metadata": {},
   "source": [
    "Мы знаем, что что веса каждого ядра должны быть примерно одинаковы. Смещение и ошибка вообще за гранью. Значит - наша модель работает не так, как хотел заказчик.\n",
    "Попробуем проанализировать имеющиеся данные. \n",
    "Цена зависит от производительности процессора, которая складывается из суммы производительностей каждого из шести ядер, помноженой на частоту процессора. \n",
    "Логичным было бы ввести дополнительный столбец расчёта произведения. \n",
    "performance = (core1+core2+core3+core4+core5+core6)/6  * frequency)"
   ]
  },
  {
   "cell_type": "code",
   "execution_count": 98,
   "metadata": {},
   "outputs": [],
   "source": [
    "data['performance'] = (core1+core2+core3+core4+core5+core6)/6 * frequency"
   ]
  },
  {
   "cell_type": "code",
   "execution_count": 93,
   "metadata": {},
   "outputs": [
    {
     "data": {
      "text/html": [
       "<div>\n",
       "<style scoped>\n",
       "    .dataframe tbody tr th:only-of-type {\n",
       "        vertical-align: middle;\n",
       "    }\n",
       "\n",
       "    .dataframe tbody tr th {\n",
       "        vertical-align: top;\n",
       "    }\n",
       "\n",
       "    .dataframe thead th {\n",
       "        text-align: right;\n",
       "    }\n",
       "</style>\n",
       "<table border=\"1\" class=\"dataframe\">\n",
       "  <thead>\n",
       "    <tr style=\"text-align: right;\">\n",
       "      <th></th>\n",
       "      <th>model_name</th>\n",
       "      <th>core1</th>\n",
       "      <th>core2</th>\n",
       "      <th>core3</th>\n",
       "      <th>core4</th>\n",
       "      <th>core5</th>\n",
       "      <th>core6</th>\n",
       "      <th>frequency</th>\n",
       "      <th>price</th>\n",
       "      <th>performance</th>\n",
       "    </tr>\n",
       "  </thead>\n",
       "  <tbody>\n",
       "    <tr>\n",
       "      <td>0</td>\n",
       "      <td>Outtel-faxeze</td>\n",
       "      <td>923</td>\n",
       "      <td>472</td>\n",
       "      <td>814</td>\n",
       "      <td>803</td>\n",
       "      <td>972</td>\n",
       "      <td>598</td>\n",
       "      <td>2888</td>\n",
       "      <td>2205469.0</td>\n",
       "      <td>2.205469e+06</td>\n",
       "    </tr>\n",
       "    <tr>\n",
       "      <td>1</td>\n",
       "      <td>Outtel-lozere</td>\n",
       "      <td>998</td>\n",
       "      <td>831</td>\n",
       "      <td>818</td>\n",
       "      <td>649</td>\n",
       "      <td>682</td>\n",
       "      <td>479</td>\n",
       "      <td>3314</td>\n",
       "      <td>2461750.0</td>\n",
       "      <td>2.461750e+06</td>\n",
       "    </tr>\n",
       "    <tr>\n",
       "      <td>2</td>\n",
       "      <td>Outtel-wesela</td>\n",
       "      <td>495</td>\n",
       "      <td>768</td>\n",
       "      <td>680</td>\n",
       "      <td>624</td>\n",
       "      <td>540</td>\n",
       "      <td>630</td>\n",
       "      <td>3029</td>\n",
       "      <td>1886562.0</td>\n",
       "      <td>1.886562e+06</td>\n",
       "    </tr>\n",
       "    <tr>\n",
       "      <td>3</td>\n",
       "      <td>Outtel-buxoki</td>\n",
       "      <td>489</td>\n",
       "      <td>998</td>\n",
       "      <td>991</td>\n",
       "      <td>445</td>\n",
       "      <td>927</td>\n",
       "      <td>890</td>\n",
       "      <td>3247</td>\n",
       "      <td>2565130.0</td>\n",
       "      <td>2.565130e+06</td>\n",
       "    </tr>\n",
       "    <tr>\n",
       "      <td>4</td>\n",
       "      <td>Outtel-bytahe</td>\n",
       "      <td>691</td>\n",
       "      <td>876</td>\n",
       "      <td>934</td>\n",
       "      <td>529</td>\n",
       "      <td>951</td>\n",
       "      <td>596</td>\n",
       "      <td>4279</td>\n",
       "      <td>3264164.0</td>\n",
       "      <td>3.264164e+06</td>\n",
       "    </tr>\n",
       "  </tbody>\n",
       "</table>\n",
       "</div>"
      ],
      "text/plain": [
       "      model_name  core1  core2  core3  core4  core5  core6  frequency  \\\n",
       "0  Outtel-faxeze    923    472    814    803    972    598       2888   \n",
       "1  Outtel-lozere    998    831    818    649    682    479       3314   \n",
       "2  Outtel-wesela    495    768    680    624    540    630       3029   \n",
       "3  Outtel-buxoki    489    998    991    445    927    890       3247   \n",
       "4  Outtel-bytahe    691    876    934    529    951    596       4279   \n",
       "\n",
       "       price   performance  \n",
       "0  2205469.0  2.205469e+06  \n",
       "1  2461750.0  2.461750e+06  \n",
       "2  1886562.0  1.886562e+06  \n",
       "3  2565130.0  2.565130e+06  \n",
       "4  3264164.0  3.264164e+06  "
      ]
     },
     "execution_count": 93,
     "metadata": {},
     "output_type": "execute_result"
    }
   ],
   "source": [
    "data.head()"
   ]
  },
  {
   "cell_type": "markdown",
   "metadata": {},
   "source": [
    "Попробуем построить линейную регрессию по новому параметру."
   ]
  },
  {
   "cell_type": "code",
   "execution_count": 99,
   "metadata": {},
   "outputs": [
    {
     "name": "stdout",
     "output_type": "stream",
     "text": [
      "Weights: [0.99999997]\n",
      "Bias: 0.06286634085699916\n",
      "Error: 0.21130055003147571\n"
     ]
    }
   ],
   "source": [
    "X = data[['performance']]\n",
    "y = data['price']\n",
    "reg = LinearRegression().fit(X, y)\n",
    "print('Weights: {}'.format(reg.coef_))\n",
    "print('Bias: {}'.format(reg.intercept_))\n",
    "\n",
    "pred_values = reg.predict(data[['performance']])\n",
    "print('Error: {}'.format(mean_absolute_error(pred_values, y)))"
   ]
  },
  {
   "cell_type": "markdown",
   "metadata": {},
   "source": [
    "#### Результат:\n",
    "Оценив влияние наших данных на результат, и введя комплекснуый показатель оценики производительности, нам удалось подготовить данные для модели так, что отклонения и ошибка стали минимально допустимыми для нашей системы прогноза. "
   ]
  }
 ],
 "metadata": {
  "kernelspec": {
   "display_name": "Python 3",
   "language": "python",
   "name": "python3"
  },
  "language_info": {
   "codemirror_mode": {
    "name": "ipython",
    "version": 3
   },
   "file_extension": ".py",
   "mimetype": "text/x-python",
   "name": "python",
   "nbconvert_exporter": "python",
   "pygments_lexer": "ipython3",
   "version": "3.7.4"
  }
 },
 "nbformat": 4,
 "nbformat_minor": 2
}

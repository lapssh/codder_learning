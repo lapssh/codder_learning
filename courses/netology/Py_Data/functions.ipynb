{
 "cells": [
  {
   "cell_type": "markdown",
   "metadata": {},
   "source": [
    "Вы работаете секретарем и вам постоянно приходят различные документы. Вы должны быть очень внимательны, чтобы не потерять ни один документ. Каталог документов хранится в следующем виде:"
   ]
  },
  {
   "cell_type": "code",
   "execution_count": 1,
   "metadata": {},
   "outputs": [],
   "source": [
    "documents = [\n",
    "    {'type': 'passport', 'number': '2207 876234', 'name': 'Василий Гупкин'},\n",
    "    {'type': 'invoice', 'number': '11-2', 'name': 'Геннадий Покемонов'},\n",
    "    {'type': 'insurance', 'number': '10006', 'name': 'Аристарх Павлов'}\n",
    "]"
   ]
  },
  {
   "cell_type": "markdown",
   "metadata": {},
   "source": [
    "Перечень полок, на которых находятся документы хранится в следующем виде:"
   ]
  },
  {
   "cell_type": "code",
   "execution_count": 2,
   "metadata": {},
   "outputs": [],
   "source": [
    "directories = {\n",
    "    '1': ['2207 876234', '11-2'],\n",
    "    '2': ['10006'],\n",
    "    '3': []\n",
    "}"
   ]
  },
  {
   "cell_type": "markdown",
   "metadata": {},
   "source": [
    "Необходимо реализовать пользовательские команды (внимание! это не название функций, которые должны быть выразительными, а команды, которые вводит пользователь, чтобы получить необходимый результат):\n",
    "  \n",
    "- p – people – команда, которая спросит номер документа и выведет имя человека, которому он принадлежит;  \n",
    "- s – shelf – команда, которая спросит номер документа и выведет номер полки, на которой он находится  \n",
    "Правильно обработайте ситуацию, когда пользователь будет вводить несуществующий документ.\n",
    "- l – list – команда, которая выведет список всех документов в формате   \n",
    "**passport \"2207 876234\" \"Василий Гупкин\"**  \n",
    "- as – add shelf – команда, которая спросит номер новой полки и добавит ее в перечень\n",
    "- d – delete – команда, которая спросит номер документа и удалит его из каталога и из перечня полок. Предусмотрите сценарий, когда пользователь вводит несуществующий документ;  \n",
    "- m – move – команда, которая спросит номер документа и целевую полку и переместит его с текущей полки на целевую. Корректно обработайте кейсы, когда пользователь пытается переместить несуществующий документ или переместить документ на несуществующую полку;  \n",
    "- a – add – команда, которая добавит новый документ в каталог и в перечень полок, спросив его номер, тип, имя владельца и номер полки, на котором он будет храниться."
   ]
  },
  {
   "cell_type": "code",
   "execution_count": 3,
   "metadata": {},
   "outputs": [],
   "source": [
    "# Создаем архитектуру программы\n",
    "# 1. Функция вывода меню - прорисовывает интерфейс и выводит перечень доступных действий\n",
    "def menu():\n",
    "    print('-' * 80)\n",
    "    print('Вас приветствует МФЦ \"Мои документы\"! Выберите доступную операцию:')\n",
    "    print('     p - people        Поиск человека по номеру документа')\n",
    "    print('     s - shelf         Поиск номера полки в хранилище по номеру документа')\n",
    "    print('     l - list          Вывод списка всех документов')\n",
    "    print('     as - add shelf    Добавление новой полки в хранилище')\n",
    "    print('     d - delite        Удаление документа по номеру')\n",
    "    print('     m - move          Перенести документ на новую полку')\n",
    "    print('     a - add           Взять на учет новый документ')\n",
    "    print('     q - quit          Закончить работу с программой')\n",
    "    print('-' * 80)"
   ]
  },
  {
   "cell_type": "code",
   "execution_count": 4,
   "metadata": {},
   "outputs": [],
   "source": [
    "# 2. Проверка введенного значения на валидность и возврат значения\n",
    "def input_validator(user_input):\n",
    "    valid_value = ['p', 's', 'l' , 'as', 'd', 'm', 'a', 'q']\n",
    "    if user_input.lower() in valid_value:\n",
    "        return user_input.lower()\n",
    "    else:\n",
    "        print('Ошибка ввода. Повторите ввод.')"
   ]
  },
  {
   "cell_type": "code",
   "execution_count": 5,
   "metadata": {},
   "outputs": [],
   "source": [
    "# 3. p-people       Функция вывода имени по номеру документа\n",
    "def search_name_by_doc_number():\n",
    "    user_input = input('Введите номер документа: ')\n",
    "    for document in documents:\n",
    "        if user_input == document['number']:\n",
    "            print('Документ с номером: \"' + user_input + '\" зарегистрирован за пользователем - ', document['name'])\n",
    "            break\n",
    "    else:\n",
    "        print('Документ с номером:', user_input, 'в системе незарегистрирован')"
   ]
  },
  {
   "cell_type": "code",
   "execution_count": 18,
   "metadata": {},
   "outputs": [],
   "source": [
    "# 4. s-shelf        Функция вывода номера полки по номеру документа (доработать вывод)\n",
    "def search_shelf_by_doc_number():\n",
    "    user_input = input('Введите номер документа: ')\n",
    "    for document in documents:\n",
    "        if user_input == document['number']:\n",
    "            print('Документ с номером: \"' + user_input + '\" найден!')\n",
    "            for k,v in directories.items():\n",
    "                if user_input in v:\n",
    "                    print('Он находиться на полке номер: ', k)\n",
    "                    break\n",
    "    else:\n",
    "        print('Документ с номером:', user_input, 'в системе незарегистрирован')"
   ]
  },
  {
   "cell_type": "code",
   "execution_count": 7,
   "metadata": {},
   "outputs": [],
   "source": [
    "# 5. l-list          Функция вывода всех документов  в хранилище\n",
    "def print_list_all_docs():\n",
    "    for document in documents:\n",
    "        print(document['type'] + ' \"' + document['number'] + '\" \"' + document['name'] + '\"')"
   ]
  },
  {
   "cell_type": "code",
   "execution_count": 8,
   "metadata": {},
   "outputs": [],
   "source": [
    "# 6. as-add shelf    Функция добавления новой полки\n",
    "def add_shelf():\n",
    "    user_input = input('Введите номер новой полки: ')\n",
    "    if user_input in directories:\n",
    "        print('Такая полка уже существует')\n",
    "    else:\n",
    "        directories[user_input] = list()\n",
    "        print('Полка \"', user_input, '\"успешно добавлена!')"
   ]
  },
  {
   "cell_type": "code",
   "execution_count": 9,
   "metadata": {},
   "outputs": [],
   "source": [
    "# 7. d-delete       Функция удаления документа\n",
    "def delete_document():\n",
    "    user_input = input('Введите номер документа для удаления: ')\n",
    "    index_for_delete = 0\n",
    "    for document in documents:\n",
    "        if user_input == document['number']:\n",
    "            print('Документ с номером: \"' + user_input + '\" удален!')\n",
    "            documents.pop(index_for_delete)\n",
    "            for k,v in directories.items():\n",
    "                if user_input in v:\n",
    "                    directories[k].remove(user_input)\n",
    "                    break\n",
    "        else:\n",
    "            index_for_delete += 1\n",
    "    else:\n",
    "        print('Документ с номером:', user_input, 'в системе незарегистрирован')\n",
    "    "
   ]
  },
  {
   "cell_type": "code",
   "execution_count": 10,
   "metadata": {},
   "outputs": [],
   "source": [
    "# 8. m-move     Функция перемещания документа на другую полку\n",
    "def move_document():\n",
    "    num_doc = input('Введите номер документа:')\n",
    "    for document in documents:\n",
    "        if num_doc == document['number']:\n",
    "            shelf_num = input('Введите номер полки, куда нужно переместить документ: ')\n",
    "            if shelf_num not in directories:\n",
    "                print('Полка с таким номером отсутствует!')\n",
    "                return\n",
    "            else:\n",
    "                for k,v in directories.items():\n",
    "                    if num_doc in v:\n",
    "                        directories[k].remove(num_doc)\n",
    "                        directories[shelf_num].append(num_doc)\n",
    "                        break\n",
    "                \n",
    "    else:\n",
    "        print('Документ с номером:', num_doc, 'в системе незарегистрирован')      "
   ]
  },
  {
   "cell_type": "code",
   "execution_count": 11,
   "metadata": {},
   "outputs": [],
   "source": [
    "# 9. a-add     Функция добавления нового документа в систему\n",
    "def add_new_document():\n",
    "    doc_type = input('Введите тип документа: ')\n",
    "    doc_num = input('Введите номер нового документа: ')\n",
    "    doc_name = input('Введите имя пользователя: ')\n",
    "    while True:\n",
    "        shelf_num = input('Введите номер полки, где хранить документ: ')\n",
    "        if shelf_num not in directories:\n",
    "            print('Полки с таким номером не существует! Повторите ввод.')\n",
    "            continue\n",
    "        documents.append({'type': doc_type, 'number': doc_num, 'name' : doc_name })\n",
    "        directories[shelf_num].append(doc_num)\n",
    "        print('Документ успешно доавблен в систему!')\n",
    "        break"
   ]
  },
  {
   "cell_type": "code",
   "execution_count": 19,
   "metadata": {},
   "outputs": [
    {
     "name": "stdout",
     "output_type": "stream",
     "text": [
      "--------------------------------------------------------------------------------\n",
      "Вас приветствует МФЦ \"Мои документы\"! Выберите доступную операцию:\n",
      "     p - people        Поиск человека по номеру документа\n",
      "     s - shelf         Поиск номера полки в хранилище по номеру документа\n",
      "     l - list          Вывод списка всех документов\n",
      "     as - add shelf    Добавление новой полки в хранилище\n",
      "     d - delite        Удаление документа по номеру\n",
      "     m - move          Перенести документ на новую полку\n",
      "     a - add           Взять на учет новый документ\n",
      "     q - quit          Закончить работу с программой\n",
      "--------------------------------------------------------------------------------\n",
      "Выберите необходмую операцию: s\n",
      "Введите номер документа: 11-2\n",
      "Документ с номером: \"11-2\" найден!\n",
      "Он находиться на полке номер:  1\n",
      "Документ с номером: 11-2 в системе незарегистрирован\n",
      "--------------------------------------------------------------------------------\n",
      "Вас приветствует МФЦ \"Мои документы\"! Выберите доступную операцию:\n",
      "     p - people        Поиск человека по номеру документа\n",
      "     s - shelf         Поиск номера полки в хранилище по номеру документа\n",
      "     l - list          Вывод списка всех документов\n",
      "     as - add shelf    Добавление новой полки в хранилище\n",
      "     d - delite        Удаление документа по номеру\n",
      "     m - move          Перенести документ на новую полку\n",
      "     a - add           Взять на учет новый документ\n",
      "     q - quit          Закончить работу с программой\n",
      "--------------------------------------------------------------------------------\n",
      "Выберите необходмую операцию: q\n",
      "Спасибо, что работали с нашей программой! Выход......\n"
     ]
    }
   ],
   "source": [
    "# Основная часть программы\n",
    "while True:\n",
    "    menu()\n",
    "    user_answer = input_validator(input('Выберите необходмую операцию: '))\n",
    "    if user_answer == 'p':\n",
    "        search_name_by_doc_number()\n",
    "    elif user_answer == 's':\n",
    "        search_shelf_by_doc_number()\n",
    "    elif user_answer == 'l':\n",
    "        print_list_all_docs()\n",
    "    elif user_answer == 'as':\n",
    "        add_shelf()\n",
    "    elif user_answer == 'd':\n",
    "        delete_document()\n",
    "    elif user_answer == 'm':\n",
    "        move_document()\n",
    "    elif user_answer == 'a':\n",
    "        add_new_document()\n",
    "    elif user_answer == 'q':\n",
    "        print('Спасибо, что работали с нашей программой! Выход......')\n",
    "        break"
   ]
  },
  {
   "cell_type": "code",
   "execution_count": null,
   "metadata": {},
   "outputs": [],
   "source": []
  }
 ],
 "metadata": {
  "kernelspec": {
   "display_name": "Python 3",
   "language": "python",
   "name": "python3"
  },
  "language_info": {
   "codemirror_mode": {
    "name": "ipython",
    "version": 3
   },
   "file_extension": ".py",
   "mimetype": "text/x-python",
   "name": "python",
   "nbconvert_exporter": "python",
   "pygments_lexer": "ipython3",
   "version": "3.7.4"
  }
 },
 "nbformat": 4,
 "nbformat_minor": 2
}

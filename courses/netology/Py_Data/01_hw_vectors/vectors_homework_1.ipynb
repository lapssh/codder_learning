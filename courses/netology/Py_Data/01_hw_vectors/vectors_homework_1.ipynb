{
 "cells": [
  {
   "cell_type": "markdown",
   "metadata": {},
   "source": [
    "# Домашняя работа №1"
   ]
  },
  {
   "cell_type": "code",
   "execution_count": 2,
   "metadata": {},
   "outputs": [],
   "source": [
    "import numpy as np\n",
    "import matplotlib.pyplot as plt"
   ]
  },
  {
   "cell_type": "markdown",
   "metadata": {},
   "source": [
    "## Задание 1"
   ]
  },
  {
   "cell_type": "markdown",
   "metadata": {},
   "source": [
    "Изобразите с помощью matplotlib. Изобразите точку x + 2y + 3z. Найдите угол между векторами x, y и x, z. "
   ]
  },
  {
   "cell_type": "code",
   "execution_count": 3,
   "metadata": {},
   "outputs": [],
   "source": [
    "x = np.array([1,1])\n",
    "y = np.array([2, 0])\n",
    "z = np.array([0,2])"
   ]
  },
  {
   "cell_type": "code",
   "execution_count": 4,
   "metadata": {},
   "outputs": [
    {
     "data": {
      "text/plain": [
       "array([5, 7])"
      ]
     },
     "execution_count": 4,
     "metadata": {},
     "output_type": "execute_result"
    }
   ],
   "source": [
    "result = x + 2*y + 3*z\n",
    "result"
   ]
  },
  {
   "cell_type": "code",
   "execution_count": 5,
   "metadata": {},
   "outputs": [
    {
     "data": {
      "text/plain": [
       "<matplotlib.collections.PathCollection at 0x2dabe4a9b88>"
      ]
     },
     "execution_count": 5,
     "metadata": {},
     "output_type": "execute_result"
    },
    {
     "data": {
      "image/png": "[encoded data removed]",
      "text/plain": [
       "<Figure size 432x288 with 1 Axes>"
      ]
     },
     "metadata": {
      "needs_background": "light"
     },
     "output_type": "display_data"
    }
   ],
   "source": [
    "plt.scatter([x[0],y[0],z[0]],[x[1],y[1],z[1]])\n",
    "plt.scatter(result[0], result[1])"
   ]
  },
  {
   "cell_type": "code",
   "execution_count": 6,
   "metadata": {},
   "outputs": [],
   "source": [
    "from scipy import linalg"
   ]
  },
  {
   "cell_type": "code",
   "execution_count": 16,
   "metadata": {},
   "outputs": [],
   "source": [
    "def calculate_angle(vector_1, vector_2):\n",
    "    rad = np.arccos(np.dot(vector_1, vector_2)/((np.linalg.norm(vector_1)*np.linalg.norm(vector_2))))\n",
    "    deg = rad*(180/np.pi)\n",
    "    print('Угол между векторами равен ',round(rad,2),'радиан или',round(deg,2), 'градусов.')"
   ]
  },
  {
   "cell_type": "code",
   "execution_count": 17,
   "metadata": {},
   "outputs": [
    {
     "name": "stdout",
     "output_type": "stream",
     "text": [
      "Угол между векторами равен  0.79 радиан или 45.0 градусов.\n"
     ]
    }
   ],
   "source": [
    "calculate_angle(x,y)"
   ]
  },
  {
   "cell_type": "code",
   "execution_count": 18,
   "metadata": {},
   "outputs": [
    {
     "name": "stdout",
     "output_type": "stream",
     "text": [
      "Угол между векторами равен  0.79 радиан или 45.0 градусов.\n"
     ]
    }
   ],
   "source": [
    "calculate_angle(x,z)"
   ]
  },
  {
   "cell_type": "markdown",
   "metadata": {},
   "source": [
    "## Задание 2"
   ]
  },
  {
   "cell_type": "markdown",
   "metadata": {},
   "source": [
    "Найдите собственные значения и собственные вектора матриц (необходимо решение на numpy и решение по алгоритму на бумажке). Для матрицы 3x3 можно посмотреть на корни характеристического многочлена, посчитанные в numpy."
   ]
  },
  {
   "cell_type": "code",
   "execution_count": 11,
   "metadata": {},
   "outputs": [],
   "source": [
    "m1 = np.array([[2, 2],\n",
    "               [1, 3]])\n",
    "\n",
    "m2 = np.array([[4, 1, -1],\n",
    "               [1, 4, -1],\n",
    "               [-1, -1, 4]])"
   ]
  },
  {
   "cell_type": "code",
   "execution_count": 29,
   "metadata": {},
   "outputs": [
    {
     "name": "stdout",
     "output_type": "stream",
     "text": [
      "Собственное значение 1.0\n",
      "соответствующий ему собственный вектор [-0.89442719  0.4472136 ]\n",
      "Собственное значение 4.0\n",
      "соответствующий ему собственный вектор [-0.70710678 -0.70710678]\n"
     ]
    }
   ],
   "source": [
    "w, v = np.linalg.eig(m1)\n",
    "for i in range(len(w)):\n",
    "    print(\"Собственное значение \" + str(w[i]))\n",
    "    print(\"соответствующий ему собственный вектор \" + str(v[:,i]))"
   ]
  },
  {
   "cell_type": "code",
   "execution_count": 30,
   "metadata": {},
   "outputs": [
    {
     "name": "stdout",
     "output_type": "stream",
     "text": [
      "Собственное значение 2.999999999999999\n",
      "соответствующий ему собственный вектор [-0.81649658  0.40824829 -0.40824829]\n",
      "Собственное значение 5.999999999999997\n",
      "соответствующий ему собственный вектор [ 0.57735027  0.57735027 -0.57735027]\n",
      "Собственное значение 2.9999999999999996\n",
      "соответствующий ему собственный вектор [-0.27658128  0.8035929   0.52701162]\n"
     ]
    }
   ],
   "source": [
    "w, v = np.linalg.eig(m2)\n",
    "for i in range(len(w)):\n",
    "    print(\"Собственное значение \" + str(w[i]))\n",
    "    print(\"соответствующий ему собственный вектор \" + str(v[:,i]))"
   ]
  },
  {
   "cell_type": "markdown",
   "metadata": {},
   "source": [
    "## Решение \"На бумажке\"\n",
    "\n",
    "**m1** = np.array([[2, 2],[1, 3]])\n",
    "\n",
    "$(2 - lambda)x_1 + 2x_2 = 0$\n",
    "\n",
    "$1x_1 + (3 - lambda)x_2 = 0$\n",
    "\n",
    "$((2 - lambda) * (3 - lambda)-1 * 2) = 0$\n",
    "\n",
    "$lambda^2 -5 lambda + 4 = 0$\n",
    "\n",
    "$lambda=1,4$\n",
    "\n",
    "lambda = 1\n",
    "\n",
    "$x_1+ 2x_2 = 0$\n",
    "\n",
    "$x_1 + 2x_2 = 0$\n",
    "\n",
    "$x_2 = -x_1/ 2$\n",
    "\n",
    "vector (2 , 1)\n",
    "\n",
    "lambda=4\n",
    "\n",
    "$-2x_1+ 2x_2 = 0$\n",
    "\n",
    "$x_1 - x_2 = 0$\n",
    "\n",
    "$x_2 = x_1$\n",
    "\n",
    "vector (1 , 1)\n",
    "\n",
    "\n",
    "**m2** = np.array([[4, 1, -1],[1, 4, -1],[-1, -1, 4]])\n",
    "               \n",
    "lambda = 3,6,3\n",
    "\n",
    "$(4 - lambda)x_1 + 1x_2-1x_3 = 0$\n",
    "\n",
    "$1x_1 + (4 - lambda)x_2-1x_3 = 0$\n",
    "\n",
    "$-1x_1-1x_2 + (4 - lambda)x_3 = 0$\n",
    "\n",
    "\n",
    "lambda=3\n",
    "\n",
    "$1x_1 + 1x_2-1x_3 = 0$\n",
    "\n",
    "$1x_1 + 1x_2-1x_3 = 0$\n",
    "\n",
    "$-1x_1-1x_2 + 1x_3 = 0$\n",
    "\n",
    "$x_1 + x_2 = x_3$\n",
    "\n",
    "vector (1, 0, 1)\n",
    "\n",
    "### Если:\n",
    "\n",
    "$x_2 = 1 x_3 = 0 $\n",
    "\n",
    "\n",
    "**vector (-1 , 1, 0)**\n",
    "\n",
    "\n",
    "lambda=6\n",
    "\n",
    "$-2x_1 + 1x_2-1x_3 = 0$\n",
    "\n",
    "$1x_1 -2x_2-1x_3 = 0$\n",
    "\n",
    "$-1x_1-1x_2 -2x_3 = 0$\n",
    "\n",
    "$- 3x_2 = 3x_3$\n",
    "$- x_1 - x_2 = 2x_3$\n",
    "\n",
    "vector (1, 1, -1)"
   ]
  },
  {
   "cell_type": "markdown",
   "metadata": {},
   "source": [
    "## Задание 3"
   ]
  },
  {
   "cell_type": "markdown",
   "metadata": {},
   "source": [
    "Найдите сингулярное разложение матрицы."
   ]
  },
  {
   "cell_type": "code",
   "execution_count": 23,
   "metadata": {},
   "outputs": [],
   "source": [
    "m3 = np.array([[1, 2],\n",
    "               [2, 3]])"
   ]
  },
  {
   "cell_type": "code",
   "execution_count": 31,
   "metadata": {},
   "outputs": [
    {
     "data": {
      "text/plain": [
       "<matplotlib.image.AxesImage at 0x2dac2d73108>"
      ]
     },
     "execution_count": 31,
     "metadata": {},
     "output_type": "execute_result"
    },
    {
     "data": {
      "image/png": "[encoded data removed]",
      "text/plain": [
       "<Figure size 288x288 with 1 Axes>"
      ]
     },
     "metadata": {
      "needs_background": "light"
     },
     "output_type": "display_data"
    }
   ],
   "source": [
    "plt.matshow(m3, cmap = 'gray')"
   ]
  },
  {
   "cell_type": "code",
   "execution_count": 33,
   "metadata": {},
   "outputs": [],
   "source": [
    "u, s, v = np.linalg.svd(m3)"
   ]
  },
  {
   "cell_type": "code",
   "execution_count": 34,
   "metadata": {},
   "outputs": [
    {
     "data": {
      "text/plain": [
       "array([[-0.52573111, -0.85065081],\n",
       "       [-0.85065081,  0.52573111]])"
      ]
     },
     "execution_count": 34,
     "metadata": {},
     "output_type": "execute_result"
    }
   ],
   "source": [
    "u"
   ]
  },
  {
   "cell_type": "code",
   "execution_count": 35,
   "metadata": {},
   "outputs": [
    {
     "data": {
      "text/plain": [
       "array([4.23606798, 0.23606798])"
      ]
     },
     "execution_count": 35,
     "metadata": {},
     "output_type": "execute_result"
    }
   ],
   "source": [
    "s"
   ]
  },
  {
   "cell_type": "code",
   "execution_count": 36,
   "metadata": {},
   "outputs": [
    {
     "data": {
      "text/plain": [
       "array([[-0.52573111, -0.85065081],\n",
       "       [ 0.85065081, -0.52573111]])"
      ]
     },
     "execution_count": 36,
     "metadata": {},
     "output_type": "execute_result"
    }
   ],
   "source": [
    "v"
   ]
  }
 ],
 "metadata": {
  "kernelspec": {
   "display_name": "Python 3",
   "language": "python",
   "name": "python3"
  },
  "language_info": {
   "codemirror_mode": {
    "name": "ipython",
    "version": 3
   },
   "file_extension": ".py",
   "mimetype": "text/x-python",
   "name": "python",
   "nbconvert_exporter": "python",
   "pygments_lexer": "ipython3",
   "version": "3.7.4"
  }
 },
 "nbformat": 4,
 "nbformat_minor": 2
}

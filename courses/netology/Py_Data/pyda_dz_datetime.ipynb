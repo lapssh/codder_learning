{
 "cells": [
  {
   "cell_type": "code",
   "execution_count": 60,
   "metadata": {},
   "outputs": [
    {
     "name": "stdout",
     "output_type": "stream",
     "text": [
      "2020-03-03\n",
      "2020-03-04\n",
      "2020-03-05\n"
     ]
    }
   ],
   "source": [
    "# Задания 1,2\n",
    "import datetime\n",
    "\n",
    "def date_range(start_date, end_date):\n",
    "    \"\"\"\n",
    "    Функция возвращает список дней между датами в формате YYYY-MM-DD\n",
    "    \"\"\"\n",
    "    try:\n",
    "        start_date = datetime.datetime.strptime(start_date, '%Y-%m-%d')\n",
    "        end_date = datetime.datetime.strptime(end_date, '%Y-%m-%d')\n",
    "        if start_date > end_date:\n",
    "            return []\n",
    "        else:\n",
    "            while start_date < end_date-timedelta(days=1):\n",
    "                start_date += timedelta(days=1)\n",
    "                print(str(start_date)[:10])\n",
    "    except:\n",
    "        print('Мы ожидали, что вы пришлете даты в формате: YYYY-MM-DD, а вы прислали:', \n",
    "              str(start_date), str(end_date))\n",
    "\n",
    "start_date = '2020-03-02'\n",
    "end_date = '2020-03-06'\n",
    "date_range(start_date, end_date)\n"
   ]
  },
  {
   "cell_type": "code",
   "execution_count": 87,
   "metadata": {},
   "outputs": [
    {
     "name": "stdout",
     "output_type": "stream",
     "text": [
      "2018-04-02 - True\n",
      "2018-02-29 - False\n",
      "2018-19-02 - False\n"
     ]
    }
   ],
   "source": [
    "# Задание 3\n",
    "from datetime import datetime\n",
    "def check_date(date):\n",
    "    try:\n",
    "        d = datetime.strptime(date, '%Y-%m-%d')\n",
    "        print(str(d)[:10], '- True')\n",
    "    except ValueError:\n",
    "        print(str(date)+ ' - False')\n",
    "\n",
    "stream = ['2018-04-02', '2018-02-29', '2018-19-02']\n",
    "for date in stream:\n",
    "    check_date(date)"
   ]
  },
  {
   "cell_type": "markdown",
   "metadata": {},
   "source": [
    "**Ответ на Задание 4 (бонусное):**\n",
    "1. Что значит ошибка list index out of range?\n",
    "Ошибка дословно: индекс списка вышел за пределы допустимых значений. Интерпретаор не смог найти элемент по таком индексу\n",
    "2. Почему при первом запуске функция работает корректно, а при втором - нет?\n",
    "При первом запуске в списке 3 элемента, функция удаляет последний (становится 2) и возвращает [3-2] то есть элемент с индексом-1 (второй по счету).\n",
    "При втором запуске в списке уже 2 элемента, функция удаляет последний (остается 1 элемент) и пытается вернуть 3-2=1 элемент с индексом-1 (второй по счету), но остался только один с индексом 0. Программа падает с ошибкой.\n"
   ]
  }
 ],
 "metadata": {
  "kernelspec": {
   "display_name": "Python 3",
   "language": "python",
   "name": "python3"
  },
  "language_info": {
   "codemirror_mode": {
    "name": "ipython",
    "version": 3
   },
   "file_extension": ".py",
   "mimetype": "text/x-python",
   "name": "python",
   "nbconvert_exporter": "python",
   "pygments_lexer": "ipython3",
   "version": "3.7.4"
  }
 },
 "nbformat": 4,
 "nbformat_minor": 2
}

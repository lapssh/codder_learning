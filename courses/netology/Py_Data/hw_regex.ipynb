{
 "cells": [
  {
   "cell_type": "markdown",
   "metadata": {},
   "source": [
    "**Задание 1.** Напишите функцию, которая принимает на вход строку и проверяет является ли она валидным транспортным номером. Если да, то функция должна возвращать отдельно номер и регион."
   ]
  },
  {
   "cell_type": "code",
   "execution_count": 1,
   "metadata": {},
   "outputs": [
    {
     "name": "stdout",
     "output_type": "stream",
     "text": [
      "номер: Т549ОХ    регион:77\n"
     ]
    }
   ],
   "source": [
    "import re\n",
    "auto_number = input()\n",
    "if re.match(r'([АВЕКМНОРСТУХ]\\d{3}[АВЕКМНОРСТУХ]{2})(\\d{2,3})$', auto_number):\n",
    "    print(re.sub(r'([АВЕКМНОРСТУХ]\\d{3}[АВЕКМНОРСТУХ]{2})(\\d{2,3})$', r'номер: \\1    регион:\\2', auto_number))\n",
    "else:\n",
    "    print('Номер', auto_number, 'НЕ соответствует шаблону')\n",
    "    "
   ]
  },
  {
   "cell_type": "markdown",
   "metadata": {},
   "source": [
    "**Задание 2**. Напишите функцию, которая проверяет e-mail адрес на валидность по стандарту RFC822: http://www.w3.org/Protocols/rfc822/. Для этого постарайтесь написать (в крайнем случае найти) самый полный шаблон для проверки e-mail адресов через регулярное выражение. Разберитесь и напишите примеры, какие ваш шаблон может не охватить."
   ]
  },
  {
   "cell_type": "code",
   "execution_count": 14,
   "metadata": {},
   "outputs": [
    {
     "name": "stdout",
     "output_type": "stream",
     "text": [
      "admin@gmail.com - соответствует\n",
      "support12@yandex.ru - соответствует\n",
      "MaM@a@family.io.oi - не соответствует\n",
      "\"Vasya Pupkin\"@mymail.com - не соответствует\n"
     ]
    }
   ],
   "source": [
    "import re\n",
    "pattern = r'[a-zA-Z0-9._-]+@[a-zA-Z0-9_-]+.[a-zA-Z_-]{2,64}$'\n",
    "test_mails = ['admin@gmail.com', 'support12@yandex.ru', 'MaM@a@family.io.oi', '\"Vasya Pupkin\"@mymail.com']\n",
    "for i in test_mails:\n",
    "    if re.match(pattern, i):\n",
    "        print(i, '- соответствует')\n",
    "    else:\n",
    "        print(i, '- не соответствует')"
   ]
  },
  {
   "cell_type": "markdown",
   "metadata": {},
   "source": [
    "**Задание 3.** Напишите функцию, которая будет удалять все последовательные повторы слов из заданной строки при помощи регулярных выражений."
   ]
  },
  {
   "cell_type": "code",
   "execution_count": 20,
   "metadata": {},
   "outputs": [
    {
     "name": "stdout",
     "output_type": "stream",
     "text": [
      "понедельник вторник среда четверг пятница суббота воскресение\n"
     ]
    }
   ],
   "source": [
    "import re\n",
    "def del_repeats(s):\n",
    "    return (re.sub(r'\\b([^\\W\\d_]+)(\\s+\\1)+\\b', r'\\1', s))\n",
    "\n",
    "s = 'понедельник вторник среда среда четверг пятница пятница суббота воскресение'\n",
    "print(del_repeats(s))"
   ]
  },
  {
   "cell_type": "markdown",
   "metadata": {},
   "source": [
    "**Задание 4**. Напишите функцию, которая будет проверять номер сотового телефона на валидность, если он валиден, то переводить его в формат:   \n",
    "+7(xxx)-xxx-xx-xx  \n",
    "Постарайтесь предусмотреть как можно больше адекватных форматов изначального ввода номера.\n",
    "Примеры валидных форматов:\n",
    "- +7 955 555-55-55;\n",
    "- 9555555555;\n",
    "- 8(955)555-55-55;\n",
    "- +7 955 555 55 55;\n",
    "- 7(955) 555-55-55;\n",
    "- +7 955+555+55+55."
   ]
  },
  {
   "cell_type": "code",
   "execution_count": 43,
   "metadata": {},
   "outputs": [
    {
     "name": "stdout",
     "output_type": "stream",
     "text": [
      "Номер: +7 955 555-55-55 прошёл проверку. Нормальный вид: +7(955)-555-55\n",
      "Номер: 9555555555 c проверкой не справился\n",
      "Номер: 01928312 c проверкой не справился\n",
      "Номер: 8(955)555-55-55 прошёл проверку. Нормальный вид: +7(955)-555-55\n",
      "Номер: +7 955 555 55 55 прошёл проверку. Нормальный вид: +7(955)-555-55\n",
      "Номер: 7(955) 555-55-55 прошёл проверку. Нормальный вид: +7(955)-555-55\n",
      "Номер: +7 955+555+55+55 прошёл проверку. Нормальный вид: +7(955)-555-55\n"
     ]
    }
   ],
   "source": [
    "import re\n",
    "def check_the_number(tel):\n",
    "    pattern = '(\\+7|7|8)(\\d{3})(\\d{3})(\\d{2})(\\d{2})'\n",
    "    tel_ = re.sub(r'\\W+', '', tel).strip() #убираем пробелы скобки и прочее\n",
    "    \n",
    "    if re.match(pattern,tel_):\n",
    "        print('Номер:', tel, 'прошёл проверку. Нормальный вид:', re.sub(pattern,r'+7(\\2)-\\3-\\4',tel_))\n",
    "    else:\n",
    "        print('Номер:', tel_, 'c проверкой не справился')\n",
    "    \n",
    "telephones = ['+7 955 555-55-55', '9555555555', '01928312',\n",
    "              '8(955)555-55-55', '+7 955 555 55 55', '7(955) 555-55-55', '+7 955+555+55+55']\n",
    "for tel in telephones:\n",
    "    check_the_number(tel)"
   ]
  },
  {
   "cell_type": "code",
   "execution_count": null,
   "metadata": {},
   "outputs": [],
   "source": []
  }
 ],
 "metadata": {
  "kernelspec": {
   "display_name": "Python 3",
   "language": "python",
   "name": "python3"
  },
  "language_info": {
   "codemirror_mode": {
    "name": "ipython",
    "version": 3
   },
   "file_extension": ".py",
   "mimetype": "text/x-python",
   "name": "python",
   "nbconvert_exporter": "python",
   "pygments_lexer": "ipython3",
   "version": "3.7.4"
  }
 },
 "nbformat": 4,
 "nbformat_minor": 2
}
